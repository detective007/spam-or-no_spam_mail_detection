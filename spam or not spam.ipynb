{
 "cells": [
  {
   "cell_type": "code",
   "execution_count": 1,
   "id": "279d2710",
   "metadata": {},
   "outputs": [],
   "source": [
    "import pandas as pd   #create dataframes(data normalization, data filling, data visualization)\n",
    "import numpy as np    #working with array , linear algebra fourier transform\n",
    "from sklearn.model_selection import train_test_split #splitting the data into test and train data \n",
    "from sklearn.feature_extraction.text import TfidfVectorizer  #converting text data into numerical values\n",
    "from sklearn.linear_model import LogisticRegression\n",
    "from sklearn.neighbors import KNeighborsClassifier\n",
    "# from sklearn.naive_bayes import GaussianNB\n",
    "from sklearn.svm import SVC\n",
    "from sklearn.metrics import accuracy_score\n",
    "from sklearn.metrics import recall_score\n",
    "from sklearn.metrics import precision_score\n",
    "from sklearn.metrics import confusion_matrix\n"
   ]
  },
  {
   "cell_type": "code",
   "execution_count": 2,
   "id": "8529d479",
   "metadata": {},
   "outputs": [
    {
     "data": {
      "text/plain": [
       "pandas.core.frame.DataFrame"
      ]
     },
     "execution_count": 2,
     "metadata": {},
     "output_type": "execute_result"
    }
   ],
   "source": [
    "raw_mail_data=pd.read_csv('mail_data.csv')  #loading data from csv file to pandas dataframe\n",
    "type(raw_mail_data)"
   ]
  },
  {
   "cell_type": "code",
   "execution_count": 3,
   "id": "a1dd50fe",
   "metadata": {},
   "outputs": [
    {
     "name": "stdout",
     "output_type": "stream",
     "text": [
      "     Category                                            Message\n",
      "0         ham  Go until jurong point, crazy.. Available only ...\n",
      "1         ham                      Ok lar... Joking wif u oni...\n",
      "2        spam  Free entry in 2 a wkly comp to win FA Cup fina...\n",
      "3         ham  U dun say so early hor... U c already then say...\n",
      "4         ham  Nah I don't think he goes to usf, he lives aro...\n",
      "...       ...                                                ...\n",
      "5567     spam  This is the 2nd time we have tried 2 contact u...\n",
      "5568      ham               Will ü b going to esplanade fr home?\n",
      "5569      ham  Pity, * was in mood for that. So...any other s...\n",
      "5570      ham  The guy did some bitching but I acted like i'd...\n",
      "5571      ham                         Rofl. Its true to its name\n",
      "\n",
      "[5572 rows x 2 columns]\n"
     ]
    }
   ],
   "source": [
    "print(raw_mail_data)"
   ]
  },
  {
   "cell_type": "code",
   "execution_count": 4,
   "id": "6612ee1d",
   "metadata": {},
   "outputs": [
    {
     "data": {
      "text/html": [
       "<div>\n",
       "<style scoped>\n",
       "    .dataframe tbody tr th:only-of-type {\n",
       "        vertical-align: middle;\n",
       "    }\n",
       "\n",
       "    .dataframe tbody tr th {\n",
       "        vertical-align: top;\n",
       "    }\n",
       "\n",
       "    .dataframe thead th {\n",
       "        text-align: right;\n",
       "    }\n",
       "</style>\n",
       "<table border=\"1\" class=\"dataframe\">\n",
       "  <thead>\n",
       "    <tr style=\"text-align: right;\">\n",
       "      <th></th>\n",
       "      <th>Category</th>\n",
       "      <th>Message</th>\n",
       "    </tr>\n",
       "  </thead>\n",
       "  <tbody>\n",
       "    <tr>\n",
       "      <th>0</th>\n",
       "      <td>ham</td>\n",
       "      <td>Go until jurong point, crazy.. Available only ...</td>\n",
       "    </tr>\n",
       "    <tr>\n",
       "      <th>1</th>\n",
       "      <td>ham</td>\n",
       "      <td>Ok lar... Joking wif u oni...</td>\n",
       "    </tr>\n",
       "    <tr>\n",
       "      <th>2</th>\n",
       "      <td>spam</td>\n",
       "      <td>Free entry in 2 a wkly comp to win FA Cup fina...</td>\n",
       "    </tr>\n",
       "    <tr>\n",
       "      <th>3</th>\n",
       "      <td>ham</td>\n",
       "      <td>U dun say so early hor... U c already then say...</td>\n",
       "    </tr>\n",
       "    <tr>\n",
       "      <th>4</th>\n",
       "      <td>ham</td>\n",
       "      <td>Nah I don't think he goes to usf, he lives aro...</td>\n",
       "    </tr>\n",
       "  </tbody>\n",
       "</table>\n",
       "</div>"
      ],
      "text/plain": [
       "  Category                                            Message\n",
       "0      ham  Go until jurong point, crazy.. Available only ...\n",
       "1      ham                      Ok lar... Joking wif u oni...\n",
       "2     spam  Free entry in 2 a wkly comp to win FA Cup fina...\n",
       "3      ham  U dun say so early hor... U c already then say...\n",
       "4      ham  Nah I don't think he goes to usf, he lives aro..."
      ]
     },
     "execution_count": 4,
     "metadata": {},
     "output_type": "execute_result"
    }
   ],
   "source": [
    "mail_data=raw_mail_data.where((pd.notnull(raw_mail_data)),'') #replace null values with null string\n",
    "mail_data.head()"
   ]
  },
  {
   "cell_type": "code",
   "execution_count": 5,
   "id": "9484ccaa",
   "metadata": {},
   "outputs": [
    {
     "data": {
      "text/plain": [
       "(5572, 2)"
      ]
     },
     "execution_count": 5,
     "metadata": {},
     "output_type": "execute_result"
    }
   ],
   "source": [
    "mail_data.shape"
   ]
  },
  {
   "cell_type": "code",
   "execution_count": 6,
   "id": "e4b394ee",
   "metadata": {},
   "outputs": [
    {
     "data": {
      "text/plain": [
       "(5572, 2)"
      ]
     },
     "execution_count": 6,
     "metadata": {},
     "output_type": "execute_result"
    }
   ],
   "source": [
    "raw_mail_data.shape"
   ]
  },
  {
   "cell_type": "code",
   "execution_count": 7,
   "id": "be3b3dde",
   "metadata": {},
   "outputs": [],
   "source": [
    "mail_data.loc[mail_data['Category']=='spam','Category',]=0   #label encoding spam=0,ham=1\n",
    "mail_data.loc[mail_data['Category']=='ham','Category',]=1"
   ]
  },
  {
   "cell_type": "code",
   "execution_count": 8,
   "id": "913bb754",
   "metadata": {},
   "outputs": [],
   "source": [
    "X=mail_data['Message']  #saperating the data as texts(X) and label(Y)\n",
    "Y=mail_data['Category'] "
   ]
  },
  {
   "cell_type": "code",
   "execution_count": 9,
   "id": "c0b8aef8",
   "metadata": {},
   "outputs": [
    {
     "name": "stdout",
     "output_type": "stream",
     "text": [
      "0       Go until jurong point, crazy.. Available only ...\n",
      "1                           Ok lar... Joking wif u oni...\n",
      "2       Free entry in 2 a wkly comp to win FA Cup fina...\n",
      "3       U dun say so early hor... U c already then say...\n",
      "4       Nah I don't think he goes to usf, he lives aro...\n",
      "                              ...                        \n",
      "5567    This is the 2nd time we have tried 2 contact u...\n",
      "5568                 Will ü b going to esplanade fr home?\n",
      "5569    Pity, * was in mood for that. So...any other s...\n",
      "5570    The guy did some bitching but I acted like i'd...\n",
      "5571                           Rofl. Its true to its name\n",
      "Name: Message, Length: 5572, dtype: object\n"
     ]
    }
   ],
   "source": [
    "print(X)"
   ]
  },
  {
   "cell_type": "code",
   "execution_count": 10,
   "id": "ae1b403b",
   "metadata": {},
   "outputs": [
    {
     "name": "stdout",
     "output_type": "stream",
     "text": [
      "0       1\n",
      "1       1\n",
      "2       0\n",
      "3       1\n",
      "4       1\n",
      "       ..\n",
      "5567    0\n",
      "5568    1\n",
      "5569    1\n",
      "5570    1\n",
      "5571    1\n",
      "Name: Category, Length: 5572, dtype: object\n"
     ]
    }
   ],
   "source": [
    "print(Y)"
   ]
  },
  {
   "cell_type": "code",
   "execution_count": 11,
   "id": "dfa64d39",
   "metadata": {},
   "outputs": [],
   "source": [
    "X_train,X_test,Y_train,Y_test=train_test_split(X,Y,test_size=0.3,random_state=3)"
   ]
  },
  {
   "cell_type": "code",
   "execution_count": 12,
   "id": "e830acfa",
   "metadata": {},
   "outputs": [
    {
     "name": "stdout",
     "output_type": "stream",
     "text": [
      "1455    Can ü all decide faster cos my sis going home ...\n",
      "3460    Not heard from U4 a while. Call me now am here...\n",
      "2493    No drama Pls.i have had enough from you and fa...\n",
      "3378    Yup. Wun believe wat? U really neva c e msg i ...\n",
      "3826    Hi. I'm always online on yahoo and would like ...\n",
      "                              ...                        \n",
      "789     5 Free Top Polyphonic Tones call 087018728737,...\n",
      "968     What do u want when i come back?.a beautiful n...\n",
      "1667    Guess who spent all last night phasing in and ...\n",
      "3321    Eh sorry leh... I din c ur msg. Not sad alread...\n",
      "1688    Free Top ringtone -sub to weekly ringtone-get ...\n",
      "Name: Message, Length: 3900, dtype: object\n"
     ]
    }
   ],
   "source": [
    "print(X_train)"
   ]
  },
  {
   "cell_type": "code",
   "execution_count": 13,
   "id": "8d756b07",
   "metadata": {},
   "outputs": [
    {
     "name": "stdout",
     "output_type": "stream",
     "text": [
      "2632    URGENT! Your mobile No 077xxx WON a £2,000 Bon...\n",
      "454     Ok i will tell her to stay out. Yeah its been ...\n",
      "983     Congrats! 2 mobile 3G Videophones R yours. cal...\n",
      "1282        Am I the only one who doesn't stalk profiles?\n",
      "4610                               Y de asking like this.\n",
      "                              ...                        \n",
      "5017        Hey gals...U all wanna meet 4 dinner at nìte?\n",
      "4540    Party's at my place at usf, no charge (but if ...\n",
      "105          Umma my life and vava umma love you lot dear\n",
      "881     Reminder: You have not downloaded the content ...\n",
      "3995    I love to cuddle! I want to hold you in my str...\n",
      "Name: Message, Length: 1672, dtype: object\n"
     ]
    }
   ],
   "source": [
    "print(X_test)"
   ]
  },
  {
   "cell_type": "code",
   "execution_count": 14,
   "id": "05e1d75f",
   "metadata": {},
   "outputs": [
    {
     "name": "stdout",
     "output_type": "stream",
     "text": [
      "(1672,)\n"
     ]
    }
   ],
   "source": [
    "print(X_test.shape)"
   ]
  },
  {
   "cell_type": "code",
   "execution_count": 15,
   "id": "935f7c66",
   "metadata": {},
   "outputs": [
    {
     "name": "stdout",
     "output_type": "stream",
     "text": [
      "(3900,)\n"
     ]
    }
   ],
   "source": [
    "print(X_train.shape)"
   ]
  },
  {
   "cell_type": "code",
   "execution_count": 16,
   "id": "784c1495",
   "metadata": {},
   "outputs": [
    {
     "name": "stdout",
     "output_type": "stream",
     "text": [
      "0       Go until jurong point, crazy.. Available only ...\n",
      "1                           Ok lar... Joking wif u oni...\n",
      "2       Free entry in 2 a wkly comp to win FA Cup fina...\n",
      "3       U dun say so early hor... U c already then say...\n",
      "4       Nah I don't think he goes to usf, he lives aro...\n",
      "                              ...                        \n",
      "5567    This is the 2nd time we have tried 2 contact u...\n",
      "5568                 Will ü b going to esplanade fr home?\n",
      "5569    Pity, * was in mood for that. So...any other s...\n",
      "5570    The guy did some bitching but I acted like i'd...\n",
      "5571                           Rofl. Its true to its name\n",
      "Name: Message, Length: 5572, dtype: object\n"
     ]
    }
   ],
   "source": [
    "print(X)"
   ]
  },
  {
   "cell_type": "code",
   "execution_count": 17,
   "id": "31a93bc4",
   "metadata": {},
   "outputs": [
    {
     "name": "stdout",
     "output_type": "stream",
     "text": [
      "(5572,)\n"
     ]
    }
   ],
   "source": [
    "print(X.shape)"
   ]
  },
  {
   "cell_type": "markdown",
   "id": "e55bdee2",
   "metadata": {},
   "source": [
    "Feature Extraction \n",
    "(text data to feature vectors that can be used as input to the logistic regression)"
   ]
  },
  {
   "cell_type": "code",
   "execution_count": 18,
   "id": "e1e2525a",
   "metadata": {},
   "outputs": [],
   "source": [
    "feature_extraction=TfidfVectorizer(min_df=1,stop_words='english',lowercase='True') #min_df minimum score given to every word , stop_words are the words that are not important for us (eg is,the,did,are,was...)\n",
    "\n",
    "X_train_features=feature_extraction.fit_transform(X_train)  # fit the test data in TfidVectorizer and then transform it into numerical values\n",
    "X_test_features=feature_extraction.transform(X_test)\n",
    "\n",
    "Y_train=Y_train.astype('int')\n",
    "Y_test=Y_test.astype('int')"
   ]
  },
  {
   "cell_type": "code",
   "execution_count": 19,
   "id": "2556d318",
   "metadata": {},
   "outputs": [
    {
     "name": "stdout",
     "output_type": "stream",
     "text": [
      "  (0, 3651)\t0.3587221851838313\n",
      "  (0, 3086)\t0.2739938546908377\n",
      "  (0, 2825)\t0.27449571589502497\n",
      "  (0, 5509)\t0.40335109063478575\n",
      "  (0, 1799)\t0.3212783541487352\n",
      "  (0, 2489)\t0.5022955611445961\n",
      "  (0, 1965)\t0.45020567466160955\n",
      "  (1, 4242)\t0.25454751074340237\n",
      "  (1, 4277)\t0.33272056276910283\n",
      "  (1, 3821)\t0.2433861866561607\n",
      "  (1, 6813)\t0.2600994552195357\n",
      "  (1, 6)\t0.33272056276910283\n",
      "  (1, 6147)\t0.16521313463046028\n",
      "  (1, 2058)\t0.18864352312402063\n",
      "  (1, 3671)\t0.16295245094503386\n",
      "  (1, 1153)\t0.31698956000242107\n",
      "  (1, 3875)\t0.19423188001633226\n",
      "  (1, 3534)\t0.33272056276910283\n",
      "  (1, 3451)\t0.1449316171395763\n",
      "  (1, 4271)\t0.19008955732757765\n",
      "  (1, 6331)\t0.33272056276910283\n",
      "  (1, 3003)\t0.2841165834640824\n",
      "  (2, 5099)\t0.30299688346739717\n",
      "  (2, 6545)\t0.19459812997829923\n",
      "  (2, 4225)\t0.30299688346739717\n",
      "  :\t:\n",
      "  (3897, 2908)\t0.32603177409174644\n",
      "  (3897, 4271)\t0.2690692327260679\n",
      "  (3898, 2081)\t0.3654387356575668\n",
      "  (3898, 3632)\t0.3140198944936123\n",
      "  (3898, 6590)\t0.3055286729595858\n",
      "  (3898, 3587)\t0.3117604480135819\n",
      "  (3898, 6308)\t0.29825497493831876\n",
      "  (3898, 5231)\t0.34076077325625154\n",
      "  (3898, 4368)\t0.30361036317197826\n",
      "  (3898, 5644)\t0.22951396229460186\n",
      "  (3898, 2289)\t0.3540965327301807\n",
      "  (3898, 6404)\t0.19744558729403666\n",
      "  (3898, 4136)\t0.2510074277476222\n",
      "  (3899, 597)\t0.30259437800239236\n",
      "  (3899, 5846)\t0.30259437800239236\n",
      "  (3899, 133)\t0.29193991379910367\n",
      "  (3899, 5843)\t0.29193991379910367\n",
      "  (3899, 312)\t0.22121895406199849\n",
      "  (3899, 6630)\t0.24828777600850763\n",
      "  (3899, 5158)\t0.4511622274843279\n",
      "  (3899, 6626)\t0.3657819848307903\n",
      "  (3899, 5583)\t0.20666240505742453\n",
      "  (3899, 2653)\t0.31542089721155364\n",
      "  (3899, 5357)\t0.15974030186984906\n",
      "  (3899, 5787)\t0.17541476811943474\n"
     ]
    }
   ],
   "source": [
    "print(X_train_features)"
   ]
  },
  {
   "cell_type": "code",
   "execution_count": 20,
   "id": "327605c4",
   "metadata": {},
   "outputs": [
    {
     "name": "stdout",
     "output_type": "stream",
     "text": [
      "  (0, 6740)\t0.19347233837676625\n",
      "  (0, 6407)\t0.2055080097399481\n",
      "  (0, 4979)\t0.23875109810071085\n",
      "  (0, 4829)\t0.20062729909686805\n",
      "  (0, 4069)\t0.18430828922923403\n",
      "  (0, 1432)\t0.2621756463911434\n",
      "  (0, 1300)\t0.3157499757997181\n",
      "  (0, 1261)\t0.25355210549045815\n",
      "  (0, 1007)\t0.24243442763882023\n",
      "  (0, 969)\t0.28300554867610606\n",
      "  (0, 375)\t0.23538848168685603\n",
      "  (0, 284)\t0.24441669340216773\n",
      "  (0, 19)\t0.30463229794808017\n",
      "  (0, 13)\t0.2692215923431076\n",
      "  (0, 8)\t0.28300554867610606\n",
      "  (0, 1)\t0.23875109810071085\n",
      "  (1, 6836)\t0.3036306856524676\n",
      "  (1, 6235)\t0.42846692136789877\n",
      "  (1, 6101)\t0.32740817341021416\n",
      "  (1, 6022)\t0.2644544987998762\n",
      "  (1, 5758)\t0.3624150379626633\n",
      "  (1, 4381)\t0.2289817544122339\n",
      "  (1, 4101)\t0.34902822855126225\n",
      "  (1, 3229)\t0.4914205959782368\n",
      "  (2, 6678)\t0.22376179533403717\n",
      "  :\t:\n",
      "  (1668, 4654)\t0.32065517896927925\n",
      "  (1668, 4533)\t0.4122308441557586\n",
      "  (1668, 2851)\t0.24779663110632108\n",
      "  (1668, 1538)\t0.4065909471787599\n",
      "  (1669, 6457)\t0.4196531319230013\n",
      "  (1669, 6343)\t0.7496300970222255\n",
      "  (1669, 3784)\t0.21929907767819623\n",
      "  (1669, 3772)\t0.2887954292007135\n",
      "  (1669, 3660)\t0.27067143183225156\n",
      "  (1669, 1955)\t0.23914024566728936\n",
      "  (1670, 6308)\t0.2424941172793586\n",
      "  (1670, 5071)\t0.33765145263231505\n",
      "  (1670, 4494)\t0.33765145263231505\n",
      "  (1670, 3141)\t0.2636046531442363\n",
      "  (1670, 2854)\t0.30900624038361857\n",
      "  (1670, 2179)\t0.3544078276230009\n",
      "  (1670, 1770)\t0.5942348062512157\n",
      "  (1670, 1688)\t0.2636046531442363\n",
      "  (1671, 6567)\t0.250308653233304\n",
      "  (1671, 5816)\t0.46219383341371867\n",
      "  (1671, 5149)\t0.28482058824752804\n",
      "  (1671, 3784)\t0.25351587876178144\n",
      "  (1671, 3077)\t0.38869408395999366\n",
      "  (1671, 1876)\t0.46219383341371867\n",
      "  (1671, 950)\t0.46219383341371867\n"
     ]
    }
   ],
   "source": [
    "print(X_test_features)"
   ]
  },
  {
   "cell_type": "code",
   "execution_count": 21,
   "id": "d8305640",
   "metadata": {},
   "outputs": [
    {
     "name": "stdout",
     "output_type": "stream",
     "text": [
      "1455    1\n",
      "3460    0\n",
      "2493    1\n",
      "3378    1\n",
      "3826    1\n",
      "       ..\n",
      "789     0\n",
      "968     1\n",
      "1667    1\n",
      "3321    1\n",
      "1688    0\n",
      "Name: Category, Length: 3900, dtype: int32\n"
     ]
    }
   ],
   "source": [
    "print(Y_train)\n"
   ]
  },
  {
   "cell_type": "code",
   "execution_count": 22,
   "id": "96748da1",
   "metadata": {},
   "outputs": [
    {
     "name": "stdout",
     "output_type": "stream",
     "text": [
      "2632    0\n",
      "454     1\n",
      "983     0\n",
      "1282    1\n",
      "4610    1\n",
      "       ..\n",
      "5017    1\n",
      "4540    1\n",
      "105     1\n",
      "881     0\n",
      "3995    1\n",
      "Name: Category, Length: 1672, dtype: int32\n"
     ]
    }
   ],
   "source": [
    "print(Y_test)"
   ]
  },
  {
   "cell_type": "code",
   "execution_count": 23,
   "id": "3ad05881",
   "metadata": {},
   "outputs": [
    {
     "name": "stdout",
     "output_type": "stream",
     "text": [
      "precision_on_training_data:  0.9629945915172218\n",
      "recall_on_training_data:  0.9994091580502216\n",
      "precision_on_test_data:      0.9612558450233801\n",
      "recall_on_test_data:  0.9993055555555556\n"
     ]
    },
    {
     "data": {
      "text/plain": [
       "array([[ 174,   58],\n",
       "       [   1, 1439]], dtype=int64)"
      ]
     },
     "execution_count": 23,
     "metadata": {},
     "output_type": "execute_result"
    }
   ],
   "source": [
    "#using logistic Regression\n",
    "model=LogisticRegression()\n",
    "#training the model\n",
    "model.fit(X_train_features,Y_train)\n",
    "prediction_on_training_data=model.predict(X_train_features)\n",
    "precision_on_training_data=precision_score(Y_train,prediction_on_training_data)\n",
    "recall_on_training_data=recall_score(Y_train,prediction_on_training_data)\n",
    "print(\"precision_on_training_data: \" ,precision_on_training_data)\n",
    "print(\"recall_on_training_data: \" ,recall_on_training_data)\n",
    "prediction_on_test_data=model.predict(X_test_features)\n",
    "precision_on_test_data=precision_score(Y_test,prediction_on_test_data)\n",
    "recall_on_test_data=recall_score(Y_test,prediction_on_test_data)\n",
    "print(\"precision_on_test_data:     \" ,precision_on_test_data)\n",
    "print(\"recall_on_test_data: \" ,recall_on_test_data)\n",
    "\n",
    "confusion_matrix(Y_test,prediction_on_test_data,labels=[0,1])"
   ]
  },
  {
   "cell_type": "code",
   "execution_count": 24,
   "id": "0dc8c09e",
   "metadata": {},
   "outputs": [
    {
     "name": "stdout",
     "output_type": "stream",
     "text": [
      "Spam mail\n"
     ]
    }
   ],
   "source": [
    "input_mail=[\"hey prashant!win win you won 500$\"]\n",
    "input_data_features=feature_extraction.transform(input_mail)\n",
    "\n",
    "prediction=model.predict(input_data_features)\n",
    "if prediction[0]==0:\n",
    "    print(\"Spam mail\")\n",
    "else:\n",
    "    print(\"Ham mail\")"
   ]
  },
  {
   "cell_type": "code",
   "execution_count": 25,
   "id": "6fa423bf",
   "metadata": {},
   "outputs": [
    {
     "name": "stdout",
     "output_type": "stream",
     "text": [
      "precision_on_training_data:  0.9128675478823847\n",
      "recall_on_training_data:  0.9997045790251108\n",
      "precision_on_test_data:      0.897196261682243\n",
      "recall_on_test_data:  1.0\n"
     ]
    },
    {
     "data": {
      "text/plain": [
       "array([[  67,  165],\n",
       "       [   0, 1440]], dtype=int64)"
      ]
     },
     "execution_count": 25,
     "metadata": {},
     "output_type": "execute_result"
    }
   ],
   "source": [
    "#uisng KNN\n",
    "model=KNeighborsClassifier()\n",
    "model.fit(X_train_features,Y_train)\n",
    "prediction_on_training_data=model.predict(X_train_features)\n",
    "precision_on_training_data=precision_score(Y_train,prediction_on_training_data)\n",
    "recall_on_training_data=recall_score(Y_train,prediction_on_training_data)\n",
    "print(\"precision_on_training_data: \" ,precision_on_training_data)\n",
    "print(\"recall_on_training_data: \" ,recall_on_training_data)\n",
    "prediction_on_test_data=model.predict(X_test_features)\n",
    "precision_on_test_data=precision_score(Y_test,prediction_on_test_data)\n",
    "recall_on_test_data=recall_score(Y_test,prediction_on_test_data)\n",
    "print(\"precision_on_test_data:     \" ,precision_on_test_data)\n",
    "print(\"recall_on_test_data: \" ,recall_on_test_data)\n",
    "\n",
    "confusion_matrix(Y_test,prediction_on_test_data,labels=[0,1])"
   ]
  },
  {
   "cell_type": "code",
   "execution_count": 35,
   "id": "acaa1a98",
   "metadata": {},
   "outputs": [
    {
     "name": "stdout",
     "output_type": "stream",
     "text": [
      "precision_on_training_data:  1.0\n",
      "recall_on_training_data:  0.9285081240768095\n",
      "precision_on_test_data:      0.9793577981651376\n",
      "recall_on_test_data:  0.8895833333333333\n"
     ]
    },
    {
     "data": {
      "text/plain": [
       "array([[ 205,   27],\n",
       "       [ 159, 1281]], dtype=int64)"
      ]
     },
     "execution_count": 35,
     "metadata": {},
     "output_type": "execute_result"
    }
   ],
   "source": [
    "#using naive bayes\n",
    "model=GaussianNB()\n",
    "model.fit(X_train_features.toarray(),Y_train)\n",
    "prediction_on_training_data=model.predict(X_train_features.toarray())\n",
    "precision_on_training_data=precision_score(Y_train,prediction_on_training_data)\n",
    "recall_on_training_data=recall_score(Y_train,prediction_on_training_data)\n",
    "print(\"precision_on_training_data: \" ,precision_on_training_data)\n",
    "print(\"recall_on_training_data: \" ,recall_on_training_data)\n",
    "prediction_on_test_data=model.predict(X_test_features.toarray())\n",
    "precision_on_test_data=precision_score(Y_test,prediction_on_test_data)\n",
    "recall_on_test_data=recall_score(Y_test,prediction_on_test_data)\n",
    "print(\"precision_on_test_data:     \" ,precision_on_test_data)\n",
    "print(\"recall_on_test_data: \" ,recall_on_test_data)\n",
    "\n",
    "confusion_matrix(Y_test,prediction_on_test_data,labels=[0,1])"
   ]
  },
  {
   "cell_type": "code",
   "execution_count": 26,
   "id": "73ea05b9",
   "metadata": {},
   "outputs": [
    {
     "name": "stdout",
     "output_type": "stream",
     "text": [
      "Ham mail\n"
     ]
    }
   ],
   "source": [
    "input_mail=[\"hey prashant!win win you won 500$\"]\n",
    "input_data_features=feature_extraction.transform(input_mail)\n",
    "\n",
    "prediction=model.predict(input_data_features)\n",
    "if prediction[0]==0:\n",
    "    print(\"Spam mail\")\n",
    "else:\n",
    "    print(\"Ham mail\")"
   ]
  },
  {
   "cell_type": "code",
   "execution_count": 27,
   "id": "aa32c0cd",
   "metadata": {},
   "outputs": [
    {
     "name": "stdout",
     "output_type": "stream",
     "text": [
      "precision_on_training_data:  0.9979363207547169\n",
      "recall_on_training_data:  1.0\n",
      "precision_on_test_data:      0.9749492213947191\n",
      "recall_on_test_data:  1.0\n"
     ]
    },
    {
     "data": {
      "text/plain": [
       "array([[ 195,   37],\n",
       "       [   0, 1440]], dtype=int64)"
      ]
     },
     "execution_count": 27,
     "metadata": {},
     "output_type": "execute_result"
    }
   ],
   "source": [
    "#using SVM\n",
    "model=SVC()\n",
    "model.fit(X_train_features,Y_train)\n",
    "prediction_on_training_data=model.predict(X_train_features)\n",
    "precision_on_training_data=precision_score(Y_train,prediction_on_training_data)\n",
    "recall_on_training_data=recall_score(Y_train,prediction_on_training_data)\n",
    "print(\"precision_on_training_data: \" ,precision_on_training_data)\n",
    "print(\"recall_on_training_data: \" ,recall_on_training_data)\n",
    "prediction_on_test_data=model.predict(X_test_features)\n",
    "precision_on_test_data=precision_score(Y_test,prediction_on_test_data)\n",
    "recall_on_test_data=recall_score(Y_test,prediction_on_test_data)\n",
    "print(\"precision_on_test_data:     \" ,precision_on_test_data)\n",
    "print(\"recall_on_test_data: \" ,recall_on_test_data)\n",
    "\n",
    "confusion_matrix(Y_test,prediction_on_test_data,labels=[0,1])"
   ]
  },
  {
   "cell_type": "code",
   "execution_count": 28,
   "id": "8b6e1792",
   "metadata": {},
   "outputs": [
    {
     "name": "stdout",
     "output_type": "stream",
     "text": [
      "Spam mail\n"
     ]
    }
   ],
   "source": [
    "input_mail=[\"hey prashant!win win you won 500$\"]\n",
    "input_data_features=feature_extraction.transform(input_mail)\n",
    "\n",
    "prediction=model.predict(input_data_features)\n",
    "if prediction[0]==0:\n",
    "    print(\"Spam mail\")\n",
    "else:\n",
    "    print(\"Ham mail\")\n"
   ]
  }
 ],
 "metadata": {
  "kernelspec": {
   "display_name": "Python 3 (ipykernel)",
   "language": "python",
   "name": "python3"
  },
  "language_info": {
   "codemirror_mode": {
    "name": "ipython",
    "version": 3
   },
   "file_extension": ".py",
   "mimetype": "text/x-python",
   "name": "python",
   "nbconvert_exporter": "python",
   "pygments_lexer": "ipython3",
   "version": "3.9.12"
  }
 },
 "nbformat": 4,
 "nbformat_minor": 5
}
